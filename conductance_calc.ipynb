{
 "cells": [
  {
   "cell_type": "code",
   "execution_count": 1,
   "metadata": {
    "collapsed": true
   },
   "outputs": [],
   "source": [
    "import numpy as np\n",
    "import scipy.constants as cts\n",
    "from vacuum_calc import conductance_short_circular_tube,conductance_long_circular_tube\n",
    "from thermo_kinetic_gas_calc_func import avg_boltzmann_velocity\n",
    "\n",
    "N = cts.value('Avogadro constant') # in particles/mol\n",
    "kB = cts.value('Boltzmann constant')"
   ]
  },
  {
   "cell_type": "markdown",
   "source": [
    "atomic masses of different atoms we would find in our vacuum chamber and avg boltzmann velocities calculated from each"
   ],
   "metadata": {
    "collapsed": false
   }
  },
  {
   "cell_type": "code",
   "execution_count": 2,
   "outputs": [],
   "source": [
    "#| atomic masses\n",
    "m_O2 = 16\n",
    "m_N2 = 14\n",
    "m_H20 = 18\n",
    "m_H2 = 2\n",
    "\n",
    "v_avg_O2 = avg_boltzmann_velocity(m_O2)\n",
    "v_avg_N2 = avg_boltzmann_velocity(m_N2)\n",
    "v_avg_H2O = avg_boltzmann_velocity(m_H20)\n",
    "v_avg_H2 = avg_boltzmann_velocity(m_H2)\n"
   ],
   "metadata": {
    "collapsed": false
   }
  },
  {
   "cell_type": "markdown",
   "source": [
    "Various geometries of different standard flanges"
   ],
   "metadata": {
    "collapsed": false
   }
  },
  {
   "cell_type": "code",
   "execution_count": 3,
   "outputs": [
    {
     "name": "stdout",
     "output_type": "stream",
     "text": [
      "aspect ratios\n",
      "1.33\" flange: 1.2015625\n",
      "2.75\" tube: 3.925547445255474\n",
      "4.5\" tube: 2.3310344827586205\n"
     ]
    }
   ],
   "source": [
    "d_275 = 1.370*25.4*(1e-3) # m\n",
    "l_275 = 5.378*25.4*1e-3\n",
    "\n",
    "d_450 = 2.9*25.4*(1e-3)\n",
    "l_450 = 6.76*25.4*1e-3\n",
    "\n",
    "d_133 = 0.640*25.4*(1e-3)\n",
    "l_133 = 0.769*25.4*(1e-3)\n",
    "\n",
    "asp_ratio_133 = l_133/d_133\n",
    "asp_ratio_275 = l_275/d_275\n",
    "asp_ratio_450 = l_450/d_450\n",
    "\n",
    "print(\"aspect ratios\")\n",
    "print(\"1.33\\\" flange: \"+str(asp_ratio_133))\n",
    "print(\"2.75\\\" tube: \"+str(asp_ratio_275))\n",
    "print(\"4.5\\\" tube: \"+str(asp_ratio_450))"
   ],
   "metadata": {
    "collapsed": false
   }
  },
  {
   "cell_type": "markdown",
   "source": [
    "calculate cross-sectional area of each standard flange"
   ],
   "metadata": {
    "collapsed": false
   }
  },
  {
   "cell_type": "code",
   "execution_count": 4,
   "outputs": [],
   "source": [
    "A_133 = np.pi*(d_133/2)**2\n",
    "A_275 = np.pi*(d_275/2)**2 # m^2\n",
    "A_450 = np.pi*(d_450/2)**2\n"
   ],
   "metadata": {
    "collapsed": false
   }
  },
  {
   "cell_type": "markdown",
   "source": [
    "Calculate the conductances of each using short tube and long tube formulas"
   ],
   "metadata": {
    "collapsed": false
   }
  },
  {
   "cell_type": "code",
   "execution_count": 5,
   "outputs": [
    {
     "name": "stdout",
     "output_type": "stream",
     "text": [
      "Aperture conductance\n",
      "H2 (L/s), 1.33: 92.18214932294887\n",
      "H2 (L/s), 2.75: 422.40399429746776\n",
      "H2 (L/s), 4.5: 1892.7047749169928\n",
      "Tube conductance\n",
      "H2 (L/s), 1.33: 102.29141840778027\n",
      "H2 (L/s), 2.75: 143.4717917906361\n",
      "H2 (L/s), 4.5: 1082.612198670469\n"
     ]
    }
   ],
   "source": [
    "C_H2_133 = conductance_short_circular_tube(v_avg_H2,A_133)\n",
    "C_H2_275 = conductance_short_circular_tube(v_avg_H2,A_275)\n",
    "C_H2_450 = conductance_short_circular_tube(v_avg_H2,A_450)\n",
    "\n",
    "C_H2_long_133 = conductance_long_circular_tube(v_avg_H2,d_133,l_133)\n",
    "C_H2_long_275 = conductance_long_circular_tube(v_avg_H2,d_275,l_275)\n",
    "C_H2_long_450 = conductance_long_circular_tube(v_avg_H2,d_450,l_450)\n",
    "\n",
    "print(\"Aperture conductance\")\n",
    "print(\"H2 (L/s), 1.33: \"+str(C_H2_133))\n",
    "print(\"H2 (L/s), 2.75: \"+str(C_H2_275))\n",
    "print(\"H2 (L/s), 4.5: \"+str(C_H2_450))\n",
    "\n",
    "print(\"Tube conductance\")\n",
    "print(\"H2 (L/s), 1.33: \"+str(C_H2_long_133))\n",
    "print(\"H2 (L/s), 2.75: \"+str(C_H2_long_275))\n",
    "print(\"H2 (L/s), 4.5: \"+str(C_H2_long_450))"
   ],
   "metadata": {
    "collapsed": false
   }
  },
  {
   "cell_type": "markdown",
   "source": [
    "# Flow rate and conductances of DPT\n",
    "Find the flow rate of atoms from the high pressure oven part before going through the DPT and into the main chamber\n"
   ],
   "metadata": {
    "collapsed": false
   }
  },
  {
   "cell_type": "code",
   "execution_count": null,
   "outputs": [],
   "source": [],
   "metadata": {
    "collapsed": false
   }
  },
  {
   "cell_type": "markdown",
   "source": [
    "## Conductance of the DPT using the calculated a\n",
    "Since our dominant source of background gas is H2 and is the lightest atom anyways, it will need the highest amount of pumping rate to get it out. We will only deal with conductances of H2"
   ],
   "metadata": {
    "collapsed": false
   }
  },
  {
   "cell_type": "code",
   "execution_count": 8,
   "outputs": [
    {
     "name": "stdout",
     "output_type": "stream",
     "text": [
      "Conductance using dimensions of the DPT \n",
      "----------------------------------------\n",
      "Conductance at the aperature: 12.53461178879629\n",
      "Conductance using the value of a and short tube: 0.7646113191165737\n",
      "Conductance using long tube: 0.9140728874950711\n"
     ]
    }
   ],
   "source": [
    "d_DPT = 0.236*25.4*(1e-3) # m\n",
    "l_DPT = 4.315*25.4*(1e-3) # m\n",
    "asp_ratio_DPT = l_DPT/d_DPT\n",
    "a_DPT = 0.061\n",
    "\n",
    "area_DPT = np.pi*(d_DPT/2)**2\n",
    "cdt_DPT_apt = conductance_short_circular_tube(v_avg_H2,area_DPT)\n",
    "cdt_DPT_apt_a = conductance_short_circular_tube(v_avg_H2,area_DPT,a=0.061)\n",
    "cdt_DPT_long = conductance_long_circular_tube(v_avg_H2,d_DPT,l_DPT)\n",
    "print(\"Conductance using dimensions of the DPT \")\n",
    "print(\"----------------------------------------\")\n",
    "print(\"Conductance at the aperature: \"+str(cdt_DPT_apt))\n",
    "print(\"Conductance using the value of a and short tube: \"+str(cdt_DPT_apt_a))\n",
    "print(\"Conductance using long tube: \"+str(cdt_DPT_long))"
   ],
   "metadata": {
    "collapsed": false
   }
  },
  {
   "cell_type": "markdown",
   "source": [
    "## Use the set conductance and fixed pressure to solve for pumping rate\n",
    "The conductance through the tube is a set value based only on the geometry of the differential pumping tube. I used this as my fixed rate to calculate the throughput, Q, as the fixed quantity we are after. This is the number of molecules coming in through the tube per time.\n",
    "\n",
    "$$\n",
    "Q = \\frac{P_{0} V}{s}\n",
    "$$\n",
    "\n",
    "conductance is a geometric quantity so I use the conductance of the DPT to give us the liters/second unit and multiply by the fixed pressure. The transmission probability table tells us the percent of the molecules which actually make it through the tube.\n",
    "\n",
    "We can replace $P_0 V$ with $N_{out}$, the number of particles actually coming through by making a substitution with the ideal gas law.\n",
    "\n",
    "$$\n",
    "P V = N k_b T\n",
    "$$\n",
    "\n",
    "the temperature is not changing, and $k_b$ is just the boltzmann constant, so both of these are constants.\n",
    "\n",
    "unsure if the constant T and k_b does actually cancel out???\n"
   ],
   "metadata": {
    "collapsed": false
   }
  },
  {
   "cell_type": "code",
   "execution_count": 10,
   "outputs": [],
   "source": [
    "high_pressure = (7.3e-8)*(101325/760) # high pressure in pascals\n",
    "low_pressure = (1e-11)*(101325/760)  # low pressure in pascals\n"
   ],
   "metadata": {
    "collapsed": false
   }
  },
  {
   "cell_type": "code",
   "execution_count": null,
   "outputs": [],
   "source": [],
   "metadata": {
    "collapsed": false
   }
  },
  {
   "cell_type": "markdown",
   "source": [
    "Solve for L', pumping rate\n",
    "\n",
    "$$\n",
    "(L/s)' = a (L/s) \\frac{P_{HP}}{P_{LP}}\n",
    "$$"
   ],
   "metadata": {
    "collapsed": false
   }
  },
  {
   "cell_type": "code",
   "execution_count": 15,
   "outputs": [],
   "source": [
    "pump_rate_1 = a_DPT*cdt_DPT_apt*(high_pressure/low_pressure)\n",
    "pump_rate_2 = a_DPT*cdt_DPT_apt_a*(high_pressure/low_pressure)\n",
    "pump_rate_3 = a_DPT*cdt_DPT_long*(high_pressure/low_pressure)"
   ],
   "metadata": {
    "collapsed": false
   }
  },
  {
   "cell_type": "code",
   "execution_count": 16,
   "outputs": [
    {
     "name": "stdout",
     "output_type": "stream",
     "text": [
      "Pump rate 1: 5581.662629550989\n",
      "Pump rate 2: 340.4814204026103\n",
      "Pump rate 3: 407.03665680155524\n"
     ]
    }
   ],
   "source": [
    "print(\"Pump rate 1: \"+str(pump_rate_1))\n",
    "print(\"Pump rate 2: \"+str(pump_rate_2))\n",
    "print(\"Pump rate 3: \"+str(pump_rate_3))"
   ],
   "metadata": {
    "collapsed": false
   }
  },
  {
   "cell_type": "code",
   "execution_count": null,
   "outputs": [],
   "source": [],
   "metadata": {
    "collapsed": false
   }
  },
  {
   "cell_type": "code",
   "execution_count": null,
   "outputs": [],
   "source": [],
   "metadata": {
    "collapsed": false
   }
  }
 ],
 "metadata": {
  "kernelspec": {
   "display_name": "Python 3",
   "language": "python",
   "name": "python3"
  },
  "language_info": {
   "codemirror_mode": {
    "name": "ipython",
    "version": 2
   },
   "file_extension": ".py",
   "mimetype": "text/x-python",
   "name": "python",
   "nbconvert_exporter": "python",
   "pygments_lexer": "ipython2",
   "version": "2.7.6"
  }
 },
 "nbformat": 4,
 "nbformat_minor": 0
}
