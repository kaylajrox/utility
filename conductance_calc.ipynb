{
 "cells": [
  {
   "cell_type": "markdown",
   "metadata": {},
   "source": [
    "# Conductance Calculations for vaccuum chamber designing"
   ]
  },
  {
   "cell_type": "code",
   "execution_count": 6,
   "metadata": {
    "tags": []
   },
   "outputs": [],
   "source": [
    "import numpy as np\n",
    "import scipy.constants as cts\n",
    "from vacuum_calc import conductance_short_circular_tube,conductance_long_circular_tube\n",
    "from thermo_kinetic_gas_calc_func import avg_boltzmann_velocity\n",
    "\n",
    "N = cts.value('Avogadro constant') # in particles/mol\n",
    "kB = cts.value('Boltzmann constant')"
   ]
  },
  {
   "cell_type": "markdown",
   "metadata": {},
   "source": [
    "# Dominant particles to remove from vacuum\n",
    "To create a vacuum, air containing many of the following atoms will need to be pumped out. The primary focus will be H2 since its the lightest molecule and therefore traveling the fastest and hardest to pump out. Also, much H2 is trapped in the vacuum components and only really removed once its baked out."
   ]
  },
  {
   "cell_type": "code",
   "execution_count": 7,
   "metadata": {
    "collapsed": false,
    "jupyter": {
     "outputs_hidden": false
    }
   },
   "outputs": [],
   "source": [
    "# atomic masses\n",
    "m_O2 = 16\n",
    "m_N2 = 14\n",
    "m_H20 = 18\n",
    "m_H2 = 2"
   ]
  },
  {
   "cell_type": "code",
   "execution_count": 13,
   "metadata": {},
   "outputs": [],
   "source": [
    "def convert_atomic_mass_kg(molecular_weight):\n",
    "    \"\"\"\n",
    "    Converts an atomic mass to a mass in kg by converting the atomic weight into SI kg. Molecular weight divided by N\n",
    "    gets everything in grams, and dividing by 1000 gives it in kg\n",
    "    :param molecular_weight: periodic table molecular weight\n",
    "    :return m_kg: mass in kg\n",
    "    \"\"\"\n",
    "    m_kg = (molecular_weight/N)/1000\n",
    "    return m_kg"
   ]
  },
  {
   "cell_type": "markdown",
   "metadata": {},
   "source": [
    "## Calculation of avg boltzmann velocity of each of the particles\n",
    "To calculate the conductance, we need two main parameters:\n",
    "- average boltzmann velocity\n",
    "- cross-sectional area and total volume of the particle flow"
   ]
  },
  {
   "cell_type": "code",
   "execution_count": 14,
   "metadata": {},
   "outputs": [],
   "source": [
    "def avg_boltzmann_velocity(m_atomic,T_C=25):\n",
    "    \"\"\"\n",
    "    :param m_atomic: atomic mass of the given substance\n",
    "    :param T_C: temperature in celsius, default set to room temperature at 22C\n",
    "    :return:\n",
    "    \"\"\"\n",
    "    T = T_C + 273.15\n",
    "    m_kg = convert_atomic_mass_kg(m_atomic)\n",
    "    v_avg = np.sqrt(8*kB*T/(np.pi*m_kg))\n",
    "    return v_avg\n"
   ]
  },
  {
   "cell_type": "code",
   "execution_count": 15,
   "metadata": {},
   "outputs": [],
   "source": [
    "v_avg_O2 = avg_boltzmann_velocity(m_O2)\n",
    "v_avg_N2 = avg_boltzmann_velocity(m_N2)\n",
    "v_avg_H2O = avg_boltzmann_velocity(m_H20)\n",
    "v_avg_H2 = avg_boltzmann_velocity(m_H2)"
   ]
  },
  {
   "cell_type": "markdown",
   "metadata": {},
   "source": [
    "# Geometries of Various Vacuum Components pumping out particles\n",
    "Each d is a diameter labeled by its corresponding standard flange size in inches. The diameter is the open area that the particles are actually travelling through. \n",
    "\n",
    "The l corresponds to the length of the tube in the model we are actually looking at and their calculated aspect ratios below\n"
   ]
  },
  {
   "cell_type": "code",
   "execution_count": 16,
   "metadata": {
    "collapsed": false,
    "jupyter": {
     "outputs_hidden": false
    }
   },
   "outputs": [
    {
     "name": "stdout",
     "output_type": "stream",
     "text": [
      "aspect ratios\n",
      "1.33\" flange: 1.2015625\n",
      "2.75\" tube: 3.925547445255474\n",
      "4.5\" tube: 2.3310344827586205\n"
     ]
    }
   ],
   "source": [
    "d_275 = 1.370*25.4*(1e-3) # m\n",
    "l_275 = 5.378*25.4*1e-3\n",
    "\n",
    "d_450 = 2.9*25.4*(1e-3)\n",
    "l_450 = 6.76*25.4*1e-3\n",
    "\n",
    "d_133 = 0.640*25.4*(1e-3)\n",
    "l_133 = 0.769*25.4*(1e-3)\n",
    "\n",
    "asp_ratio_133 = l_133/d_133\n",
    "asp_ratio_275 = l_275/d_275\n",
    "asp_ratio_450 = l_450/d_450\n",
    "\n",
    "print(\"aspect ratios\")\n",
    "print(\"1.33\\\" flange: \"+str(asp_ratio_133))\n",
    "print(\"2.75\\\" tube: \"+str(asp_ratio_275))\n",
    "print(\"4.5\\\" tube: \"+str(asp_ratio_450))"
   ]
  },
  {
   "cell_type": "markdown",
   "metadata": {},
   "source": [
    "## Cross-sectional area of each standard flange"
   ]
  },
  {
   "cell_type": "code",
   "execution_count": 17,
   "metadata": {
    "collapsed": false,
    "jupyter": {
     "outputs_hidden": false
    }
   },
   "outputs": [],
   "source": [
    "A_133 = np.pi*(d_133/2)**2\n",
    "A_275 = np.pi*(d_275/2)**2 # m^2\n",
    "A_450 = np.pi*(d_450/2)**2\n"
   ]
  },
  {
   "cell_type": "markdown",
   "metadata": {},
   "source": [
    "Calculate the conductances of each using short tube and long tube formulas"
   ]
  },
  {
   "cell_type": "code",
   "execution_count": 10,
   "metadata": {
    "collapsed": false,
    "jupyter": {
     "outputs_hidden": false
    }
   },
   "outputs": [
    {
     "name": "stdout",
     "output_type": "stream",
     "text": [
      "Aperture conductance\n",
      "H2 (L/s), 1.33: 92.18214932294887\n",
      "H2 (L/s), 2.75: 422.40399429746776\n",
      "H2 (L/s), 4.5: 1892.7047749169928\n",
      "Tube conductance\n",
      "H2 (L/s), 1.33: 102.29141840778027\n",
      "H2 (L/s), 2.75: 143.4717917906361\n",
      "H2 (L/s), 4.5: 1082.612198670469\n"
     ]
    }
   ],
   "source": [
    "C_H2_133 = conductance_short_circular_tube(v_avg_H2,A_133)\n",
    "C_H2_275 = conductance_short_circular_tube(v_avg_H2,A_275)\n",
    "C_H2_450 = conductance_short_circular_tube(v_avg_H2,A_450)\n",
    "\n",
    "C_H2_long_133 = conductance_long_circular_tube(v_avg_H2,d_133,l_133)\n",
    "C_H2_long_275 = conductance_long_circular_tube(v_avg_H2,d_275,l_275)\n",
    "C_H2_long_450 = conductance_long_circular_tube(v_avg_H2,d_450,l_450)\n",
    "\n",
    "print(\"Aperture conductance\")\n",
    "print(\"H2 (L/s), 1.33: \"+str(C_H2_133))\n",
    "print(\"H2 (L/s), 2.75: \"+str(C_H2_275))\n",
    "print(\"H2 (L/s), 4.5: \"+str(C_H2_450))\n",
    "\n",
    "print(\"Tube conductance\")\n",
    "print(\"H2 (L/s), 1.33: \"+str(C_H2_long_133))\n",
    "print(\"H2 (L/s), 2.75: \"+str(C_H2_long_275))\n",
    "print(\"H2 (L/s), 4.5: \"+str(C_H2_long_450))"
   ]
  },
  {
   "cell_type": "markdown",
   "metadata": {
    "tags": []
   },
   "source": [
    "# Conductances of Differential pumping tube (DPT)\n",
    "Conductance of the DPT for further DPT analysis.\n"
   ]
  },
  {
   "cell_type": "markdown",
   "metadata": {},
   "source": [
    "## Conductance of the DPT using the calculated a\n",
    "Since our dominant source of background gas is H2 and is the lightest atom anyways, it will need the highest amount of pumping rate to get it out. We will only deal with conductances of H2"
   ]
  },
  {
   "cell_type": "code",
   "execution_count": 11,
   "metadata": {
    "collapsed": false,
    "jupyter": {
     "outputs_hidden": false
    }
   },
   "outputs": [
    {
     "name": "stdout",
     "output_type": "stream",
     "text": [
      "Conductance using dimensions of the DPT \n",
      "----------------------------------------\n",
      "Conductance at the aperature: 12.53461178879629\n",
      "Conductance using the value of a and short tube: 0.7646113191165737\n",
      "Conductance using long tube: 0.9140728874950711\n"
     ]
    }
   ],
   "source": [
    "d_DPT = 0.236*25.4*(1e-3) # m\n",
    "l_DPT = 4.315*25.4*(1e-3) # m\n",
    "asp_ratio_DPT = l_DPT/d_DPT\n",
    "a_DPT = 0.061\n",
    "\n",
    "area_DPT = np.pi*(d_DPT/2)**2\n",
    "cdt_DPT_apt = conductance_short_circular_tube(v_avg_H2,area_DPT)\n",
    "cdt_DPT_apt_a = conductance_short_circular_tube(v_avg_H2,area_DPT,a=0.061)\n",
    "cdt_DPT_long = conductance_long_circular_tube(v_avg_H2,d_DPT,l_DPT)\n",
    "print(\"Conductance using dimensions of the DPT \")\n",
    "print(\"----------------------------------------\")\n",
    "print(\"Conductance at the aperature: \"+str(cdt_DPT_apt))\n",
    "print(\"Conductance using the value of a and short tube: \"+str(cdt_DPT_apt_a))\n",
    "print(\"Conductance using long tube: \"+str(cdt_DPT_long))"
   ]
  },
  {
   "cell_type": "markdown",
   "metadata": {},
   "source": [
    "## Use the set conductance and fixed pressure to solve for pumping rate\n",
    "Find the flow rate of atoms from the high pressure oven part before going through the DPT and into the main chamber\n",
    "\n",
    "\n",
    "The conductance through the tube is a set value based only on the geometry of the differential pumping tube. I used this as my fixed rate to calculate the throughput, Q, as the fixed quantity we are after. This is the number of molecules coming in through the tube per time.\n",
    "\n",
    "$$\n",
    "Q = \\frac{P_{0} V}{s}\n",
    "$$\n",
    "\n",
    "conductance is a geometric quantity so I use the conductance of the DPT to give us the liters/second unit and multiply by the fixed pressure. The transmission probability table tells us the percent of the molecules which actually make it through the tube.\n",
    "\n",
    "We can replace $P_0 V$ with $N_{out}$, the number of particles actually coming through by making a substitution with the ideal gas law.\n",
    "\n",
    "$$\n",
    "P V = N k_b T\n",
    "$$\n",
    "\n",
    "the temperature is not changing, and $k_b$ is just the boltzmann constant, so both of these are constants.\n",
    "\n",
    "unsure if the constant T and k_b does actually cancel out???\n"
   ]
  },
  {
   "cell_type": "code",
   "execution_count": 12,
   "metadata": {
    "collapsed": false,
    "jupyter": {
     "outputs_hidden": false
    }
   },
   "outputs": [],
   "source": [
    "high_pressure = (7.3e-8)*(101325/760) # high pressure in pascals\n",
    "low_pressure = (1e-11)*(101325/760)  # low pressure in pascals\n"
   ]
  },
  {
   "cell_type": "markdown",
   "metadata": {},
   "source": [
    "Solve for L', pumping rate\n",
    "\n",
    "$$\n",
    "(L/s)' = a (L/s) \\frac{P_{HP}}{P_{LP}}\n",
    "$$"
   ]
  },
  {
   "cell_type": "code",
   "execution_count": 17,
   "metadata": {
    "collapsed": false,
    "jupyter": {
     "outputs_hidden": false
    }
   },
   "outputs": [],
   "source": [
    "pump_rate_1 = a_DPT*cdt_DPT_apt*(high_pressure/low_pressure)\n",
    "pump_rate_2 = a_DPT*cdt_DPT_apt_a*(high_pressure/low_pressure)\n",
    "pump_rate_3 = a_DPT*cdt_DPT_long*(high_pressure/low_pressure)"
   ]
  },
  {
   "cell_type": "code",
   "execution_count": 16,
   "metadata": {
    "collapsed": false,
    "jupyter": {
     "outputs_hidden": false
    }
   },
   "outputs": [
    {
     "name": "stdout",
     "output_type": "stream",
     "text": [
      "a*C_ap 558.1662629550988\n",
      "Pump rate 2: 558.1662629550988\n",
      "Pump rate 3: 40.70366568015552\n"
     ]
    }
   ],
   "source": [
    "print(\"Pump rate 1: \"+str(pump_rate_1))\n",
    "print(\"Pump rate 2: \"+str(pump_rate_2))\n",
    "print(\"Pump rate 3: \"+str(pump_rate_3))"
   ]
  },
  {
   "cell_type": "code",
   "execution_count": 14,
   "metadata": {
    "collapsed": false,
    "jupyter": {
     "outputs_hidden": false
    }
   },
   "outputs": [],
   "source": []
  },
  {
   "cell_type": "code",
   "execution_count": 14,
   "metadata": {
    "collapsed": false,
    "jupyter": {
     "outputs_hidden": false
    }
   },
   "outputs": [],
   "source": []
  }
 ],
 "metadata": {
  "kernelspec": {
   "display_name": "Python 3 (ipykernel)",
   "language": "python",
   "name": "python3"
  },
  "language_info": {
   "codemirror_mode": {
    "name": "ipython",
    "version": 3
   },
   "file_extension": ".py",
   "mimetype": "text/x-python",
   "name": "python",
   "nbconvert_exporter": "python",
   "pygments_lexer": "ipython3",
   "version": "3.9.13"
  }
 },
 "nbformat": 4,
 "nbformat_minor": 4
}
