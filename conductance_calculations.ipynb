{
 "cells": [
  {
   "cell_type": "code",
   "execution_count": 4,
   "metadata": {
    "collapsed": true
   },
   "outputs": [],
   "source": [
    "from thermo_kinetic_gas_calc_func import avg_boltzmann_velocity\n",
    "from vacuum_calc import conductance_tube\n",
    "import numpy as np\n"
   ]
  },
  {
   "cell_type": "markdown",
   "source": [
    "Given the diameter of a 2.75\" standard flange, we find the open aperature diameter and find the conductances of various elements in vacuum"
   ],
   "metadata": {
    "collapsed": false
   }
  },
  {
   "cell_type": "code",
   "execution_count": 7,
   "outputs": [
    {
     "name": "stdout",
     "output_type": "stream",
     "text": [
      "conductances uses the avg boltzman velocity\n",
      "O2 (L/s): 17.080190778820942\n",
      "N2 (L/s): 18.259491998595298\n",
      "H2O (L/s): 16.10335829821897\n"
     ]
    }
   ],
   "source": [
    "d = 1.370*25.4*1e-3 # m\n",
    "A = np.pi*d # m^2\n",
    "\n",
    "# atomic masses\n",
    "m_O2 = 16\n",
    "m_N2 = 14\n",
    "m_H20 = 18\n",
    "\n",
    "v_avg_O2 = avg_boltzmann_velocity(m_O2)\n",
    "v_avg_N2 = avg_boltzmann_velocity(m_N2)\n",
    "v_avg_H2O = avg_boltzmann_velocity(m_H20)\n",
    "\n",
    "C_O2 = conductance_tube(v_avg_O2,A)\n",
    "C_N2 = conductance_tube(v_avg_N2,A)\n",
    "C_H2O = conductance_tube(v_avg_H2O,A)\n",
    "\n",
    "print(\"conductances uses the avg boltzman velocity\")\n",
    "print(\"O2 (L/s): \"+str(C_O2))\n",
    "print(\"N2 (L/s): \"+str(C_N2))\n",
    "print(\"H2O (L/s): \"+str(C_H2O))\n"
   ],
   "metadata": {
    "collapsed": false
   }
  },
  {
   "cell_type": "code",
   "execution_count": null,
   "outputs": [],
   "source": [],
   "metadata": {
    "collapsed": false
   }
  }
 ],
 "metadata": {
  "kernelspec": {
   "display_name": "Python 3",
   "language": "python",
   "name": "python3"
  },
  "language_info": {
   "codemirror_mode": {
    "name": "ipython",
    "version": 2
   },
   "file_extension": ".py",
   "mimetype": "text/x-python",
   "name": "python",
   "nbconvert_exporter": "python",
   "pygments_lexer": "ipython2",
   "version": "2.7.6"
  }
 },
 "nbformat": 4,
 "nbformat_minor": 0
}
