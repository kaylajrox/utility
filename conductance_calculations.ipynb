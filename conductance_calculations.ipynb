{
 "cells": [
  {
   "cell_type": "code",
   "execution_count": 1,
   "metadata": {
    "collapsed": true
   },
   "outputs": [],
   "source": [
    "import numpy as np\n",
    "import scipy.constants as cts\n",
    "from vacuum_calc import conductance_aperture,conductance_circular_tube\n",
    "from thermo_kinetic_gas_calc_func import avg_boltzmann_velocity\n",
    "\n",
    "N = cts.value('Avogadro constant') # in particles/mol\n",
    "kB = cts.value('Boltzmann constant')"
   ]
  },
  {
   "cell_type": "code",
   "execution_count": 7,
   "outputs": [],
   "source": [
    "#| atomic masses\n",
    "m_O2 = 16\n",
    "m_N2 = 14\n",
    "m_H20 = 18\n",
    "m_H2 = 2\n",
    "\n",
    "v_avg_O2 = avg_boltzmann_velocity(m_O2)\n",
    "v_avg_N2 = avg_boltzmann_velocity(m_N2)\n",
    "v_avg_H2O = avg_boltzmann_velocity(m_H20)\n",
    "v_avg_H2 = avg_boltzmann_velocity(m_H2)\n",
    "\n",
    "a = 0.2\n",
    "a2 = 0.4"
   ],
   "metadata": {
    "collapsed": false
   }
  },
  {
   "cell_type": "markdown",
   "source": [
    "Given the diameter of a 2.75\" standard flange, we find the open aperature diameter and find the conductances of various elements in vacuum"
   ],
   "metadata": {
    "collapsed": false
   }
  },
  {
   "cell_type": "code",
   "execution_count": 8,
   "outputs": [],
   "source": [
    "d = 1.370*25.4*(1e-3) # m\n",
    "d_4 = 2.9*25.4*(1e-3)\n",
    "A = np.pi*(d/2)**2 # m^2\n",
    "A_4 = np.pi*(d_4/2)**2\n",
    "\n",
    "l = 5.378*25.4*1e-3"
   ],
   "metadata": {
    "collapsed": false
   }
  },
  {
   "cell_type": "code",
   "execution_count": 9,
   "outputs": [],
   "source": [
    "C_O2 = conductance_aperture(v_avg_O2,A)\n",
    "C_N2 = conductance_aperture(v_avg_N2,A)\n",
    "C_H2O = conductance_aperture(v_avg_H2O,A)\n",
    "C_H2 = conductance_aperture(v_avg_H2,A)\n",
    "\n",
    "C_O2_4 = conductance_aperture(v_avg_O2,A_4)\n",
    "C_N2_4 = conductance_aperture(v_avg_N2,A_4)\n",
    "C_H2O_4 = conductance_aperture(v_avg_H2O,A_4)\n",
    "C_H2_4 = conductance_aperture(v_avg_H2,A_4)\n"
   ],
   "metadata": {
    "collapsed": false
   }
  },
  {
   "cell_type": "code",
   "execution_count": 10,
   "outputs": [
    {
     "name": "stdout",
     "output_type": "stream",
     "text": [
      "Nitrogen\n",
      "N2 in terms of A: 167872.88238715928\n",
      "Velocities: \n",
      "O2 (m/s): 628.1228104229475\n",
      "N2 (m/s): 671.491529548637\n",
      "H2O (m/s): 592.1998648906913\n",
      "H2 (m/s): 1776.5995946720736\n",
      "              \n",
      "conductances of 2.75 in flange\n",
      "Aspect ratio: 3.925547445255474\n",
      "corresponds to a of 0.2\n",
      "O2 (L/s): 29.868472876802322\n",
      "N2 (L/s): 31.93074062032701\n",
      "H2O (L/s): 28.160266286497855\n",
      "H2 (L/s): 84.48079885949356\n",
      "              \n",
      "conductances of 4.1 in flange\n",
      "Aspect ratio: 1.8544827586206896\n",
      "corresponds to a of 0.38\n",
      "O2 (L/s): 254.28543241431308\n",
      "N2 (L/s): 271.8425618691487\n",
      "H2O (L/s): 239.7426048228191\n",
      "H2 (L/s): 719.2278144684573\n"
     ]
    }
   ],
   "source": [
    "print(\"Nitrogen\")\n",
    "print(\"N2 in terms of A: \"+str(C_N2/A))\n",
    "\n",
    "print(\"Velocities: \")\n",
    "print(\"O2 (m/s): \"+str(v_avg_O2))\n",
    "print(\"N2 (m/s): \"+str(v_avg_N2))\n",
    "print(\"H2O (m/s): \"+str(v_avg_H2O))\n",
    "print(\"H2 (m/s): \"+str(v_avg_H2))\n",
    "print(\"              \")\n",
    "print(\"conductances of 2.75 in flange\")\n",
    "print(\"Aspect ratio: \"+str(l/d))\n",
    "print(\"corresponds to a of 0.2\")\n",
    "a = 0.2\n",
    "print(\"O2 (L/s): \"+str(C_O2*a))\n",
    "print(\"N2 (L/s): \"+str(C_N2*a))\n",
    "print(\"H2O (L/s): \"+str(C_H2O*a))\n",
    "print(\"H2 (L/s): \"+str(C_H2*a))\n",
    "\n",
    "print(\"              \")\n",
    "print(\"conductances of 4.1 in flange\")\n",
    "print(\"Aspect ratio: \"+str(l/d_4))\n",
    "print(\"corresponds to a of 0.38\")\n",
    "a_4 = 0.38\n",
    "print(\"O2 (L/s): \"+str(C_O2_4*a_4))\n",
    "print(\"N2 (L/s): \"+str(C_N2_4*a_4))\n",
    "print(\"H2O (L/s): \"+str(C_H2O_4*a_4))\n",
    "print(\"H2 (L/s): \"+str(C_H2_4*a_4))"
   ],
   "metadata": {
    "collapsed": false
   }
  },
  {
   "cell_type": "code",
   "execution_count": 5,
   "outputs": [
    {
     "name": "stdout",
     "output_type": "stream",
     "text": [
      "S: \n",
      "O2 (m/s): 157.03070260573688\n",
      "N2 (m/s): 167.87288238715925\n",
      "H2O (m/s): 148.04996622267282\n",
      "H2 (m/s): 444.1498986680184\n"
     ]
    }
   ],
   "source": [
    "print(\"S: \")\n",
    "print(\"O2 (m/s): \"+str(v_avg_O2/4))\n",
    "print(\"N2 (m/s): \"+str(v_avg_N2/4))\n",
    "print(\"H2O (m/s): \"+str(v_avg_H2O/4))\n",
    "print(\"H2 (m/s): \"+str(v_avg_H2/4))"
   ],
   "metadata": {
    "collapsed": false
   }
  },
  {
   "cell_type": "code",
   "execution_count": 6,
   "outputs": [
    {
     "data": {
      "text/plain": "62808.78739028083"
     },
     "execution_count": 6,
     "metadata": {},
     "output_type": "execute_result"
    }
   ],
   "source": [
    "1.455e4*np.sqrt((273.15+25)/m_O2)"
   ],
   "metadata": {
    "collapsed": false
   }
  },
  {
   "cell_type": "code",
   "execution_count": null,
   "outputs": [],
   "source": [
    "d_eg = 2*25.4*1e-3\n",
    "l_eg = 30"
   ],
   "metadata": {
    "collapsed": false
   }
  }
 ],
 "metadata": {
  "kernelspec": {
   "display_name": "Python 3",
   "language": "python",
   "name": "python3"
  },
  "language_info": {
   "codemirror_mode": {
    "name": "ipython",
    "version": 2
   },
   "file_extension": ".py",
   "mimetype": "text/x-python",
   "name": "python",
   "nbconvert_exporter": "python",
   "pygments_lexer": "ipython2",
   "version": "2.7.6"
  }
 },
 "nbformat": 4,
 "nbformat_minor": 0
}
