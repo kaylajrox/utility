{
 "cells": [
  {
   "cell_type": "code",
   "execution_count": 1,
   "metadata": {
    "collapsed": true
   },
   "outputs": [],
   "source": [
    "import numpy as np\n",
    "import scipy.constants as cts\n",
    "from vacuum_calc import conductance_aperture,conductance_circular_tube\n",
    "from thermo_kinetic_gas_calc_func import avg_boltzmann_velocity\n",
    "\n",
    "N = cts.value('Avogadro constant') # in particles/mol\n",
    "kB = cts.value('Boltzmann constant')"
   ]
  },
  {
   "cell_type": "code",
   "execution_count": 7,
   "outputs": [],
   "source": [
    "#| atomic masses\n",
    "m_O2 = 16\n",
    "m_N2 = 14\n",
    "m_H20 = 18\n",
    "m_H2 = 2\n",
    "\n",
    "v_avg_O2 = avg_boltzmann_velocity(m_O2)\n",
    "v_avg_N2 = avg_boltzmann_velocity(m_N2)\n",
    "v_avg_H2O = avg_boltzmann_velocity(m_H20)\n",
    "v_avg_H2 = avg_boltzmann_velocity(m_H2)\n",
    "\n",
    "a = 0.2\n",
    "a2 = 0.4"
   ],
   "metadata": {
    "collapsed": false
   }
  },
  {
   "cell_type": "markdown",
   "source": [
    "Given the diameter of a 2.75\" standard flange, we find the open aperature diameter and find the conductances of various elements in vacuum"
   ],
   "metadata": {
    "collapsed": false
   }
  },
  {
   "cell_type": "code",
   "execution_count": 8,
   "outputs": [],
   "source": [
    "d = 1.370*25.4*(1e-3) # m\n",
    "d_4 = 2.9*25.4*(1e-3)\n",
    "A = np.pi*(d/2)**2 # m^2\n",
    "A_4 = np.pi*(d_4/2)**2\n",
    "\n",
    "l = 5.378*25.4*1e-3"
   ],
   "metadata": {
    "collapsed": false
   }
  },
  {
   "cell_type": "code",
   "execution_count": 12,
   "outputs": [],
   "source": [
    "C_O2 = conductance_aperture(v_avg_O2,A)\n",
    "C_N2 = conductance_aperture(v_avg_N2,A)\n",
    "C_H2O = conductance_aperture(v_avg_H2O,A)\n",
    "C_H2 = conductance_aperture(v_avg_H2,A)\n",
    "\n",
    "C_O2_long = conductance_circular_tube(v_avg_O2,d,l)\n",
    "C_N2_long = conductance_circular_tube(v_avg_N2,d,l)\n",
    "C_H2O_long = conductance_circular_tube(v_avg_H2O,d,l)\n",
    "C_H2_long = conductance_circular_tube(v_avg_H2,d,l)\n",
    "\n",
    "C_O2_4 = conductance_aperture(v_avg_O2,A_4)\n",
    "C_N2_4 = conductance_aperture(v_avg_N2,A_4)\n",
    "C_H2O_4 = conductance_aperture(v_avg_H2O,A_4)\n",
    "C_H2_4 = conductance_aperture(v_avg_H2,A_4)\n",
    "\n",
    "C_O2_4_long = conductance_circular_tube(v_avg_O2,d,l)\n",
    "C_N2_4_long = conductance_circular_tube(v_avg_N2,d,l)\n",
    "C_H2O_4_long = conductance_circular_tube(v_avg_H2O,d,l)\n",
    "C_H2_4_long = conductance_circular_tube(v_avg_H2,d,l)"
   ],
   "metadata": {
    "collapsed": false
   }
  },
  {
   "cell_type": "code",
   "execution_count": 13,
   "outputs": [
    {
     "name": "stdout",
     "output_type": "stream",
     "text": [
      "conductances of 2.75 at flange\n",
      "O2 (L/s): 149.3423643840116\n",
      "N2 (L/s): 159.65370310163505\n",
      "H2O (L/s): 140.80133143248926\n",
      "H2 (L/s): 422.40399429746776\n",
      "              \n",
      "Long tube Aspect ratio: 3.925547445255474\n",
      "corresponds to a of 0.2\n",
      "O2 (L/s): 10.144987688414325\n",
      "N2 (L/s): 10.84544803516747\n",
      "H2O (L/s): 9.564786119375741\n",
      "H2 (L/s): 28.69435835812722\n"
     ]
    }
   ],
   "source": [
    "print(\"conductances of 2.75 at flange\")\n",
    "print(\"O2 (L/s): \"+str(C_O2))\n",
    "print(\"N2 (L/s): \"+str(C_N2))\n",
    "print(\"H2O (L/s): \"+str(C_H2O))\n",
    "print(\"H2 (L/s): \"+str(C_H2))\n",
    "print(\"              \")\n",
    "print(\"Long tube Aspect ratio: \"+str(l/d))\n",
    "print(\"corresponds to a of 0.2\")\n",
    "a = 0.2\n",
    "print(\"O2 (L/s): \"+str(C_O2_long*a))\n",
    "print(\"N2 (L/s): \"+str(C_N2_long*a))\n",
    "print(\"H2O (L/s): \"+str(C_H2O_long*a))\n",
    "print(\"H2 (L/s): \"+str(C_H2_long*a))\n"
   ],
   "metadata": {
    "collapsed": false
   }
  },
  {
   "cell_type": "code",
   "execution_count": 15,
   "outputs": [
    {
     "name": "stdout",
     "output_type": "stream",
     "text": [
      "conductances of 4.1 in flange\n",
      "O2 (L/s): 669.1721905639818\n",
      "N2 (L/s): 715.3751628135492\n",
      "H2O (L/s): 630.9015916389976\n",
      "H2 (L/s): 1892.7047749169928\n",
      "              \n",
      "Long tube Aspect ratio: 1.8544827586206896\n",
      "corresponds to a of 0.38\n",
      "O2 (L/s): 19.275476607987216\n",
      "N2 (L/s): 20.60635126681819\n",
      "H2O (L/s): 18.17309362681391\n",
      "H2 (L/s): 54.51928088044172\n"
     ]
    }
   ],
   "source": [
    "print(\"conductances of 4.1 in flange\")\n",
    "a_4 = 0.38\n",
    "print(\"O2 (L/s): \"+str(C_O2_4))\n",
    "print(\"N2 (L/s): \"+str(C_N2_4))\n",
    "print(\"H2O (L/s): \"+str(C_H2O_4))\n",
    "print(\"H2 (L/s): \"+str(C_H2_4))\n",
    "print(\"              \")\n",
    "print(\"Long tube Aspect ratio: \"+str(l/d_4))\n",
    "print(\"corresponds to a of 0.38\")\n",
    "print(\"O2 (L/s): \"+str(C_O2_4_long*a_4))\n",
    "print(\"N2 (L/s): \"+str(C_N2_4_long*a_4))\n",
    "print(\"H2O (L/s): \"+str(C_H2O_4_long*a_4))\n",
    "print(\"H2 (L/s): \"+str(C_H2_4_long*a_4))"
   ],
   "metadata": {
    "collapsed": false
   }
  },
  {
   "cell_type": "code",
   "execution_count": 6,
   "outputs": [
    {
     "data": {
      "text/plain": "62808.78739028083"
     },
     "execution_count": 6,
     "metadata": {},
     "output_type": "execute_result"
    }
   ],
   "source": [
    "1.455e4*np.sqrt((273.15+25)/m_O2)"
   ],
   "metadata": {
    "collapsed": false
   }
  },
  {
   "cell_type": "code",
   "execution_count": null,
   "outputs": [],
   "source": [
    "d_eg = 2*25.4*1e-3\n",
    "l_eg = 30"
   ],
   "metadata": {
    "collapsed": false
   }
  }
 ],
 "metadata": {
  "kernelspec": {
   "display_name": "Python 3",
   "language": "python",
   "name": "python3"
  },
  "language_info": {
   "codemirror_mode": {
    "name": "ipython",
    "version": 2
   },
   "file_extension": ".py",
   "mimetype": "text/x-python",
   "name": "python",
   "nbconvert_exporter": "python",
   "pygments_lexer": "ipython2",
   "version": "2.7.6"
  }
 },
 "nbformat": 4,
 "nbformat_minor": 0
}
