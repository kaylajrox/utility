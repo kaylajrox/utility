{
 "cells": [
  {
   "cell_type": "code",
   "execution_count": 7,
   "metadata": {
    "collapsed": true
   },
   "outputs": [],
   "source": [
    "import numpy as np\n",
    "import scipy.constants as cts\n",
    "from vacuum_calc import conductance_short_circular_tube,conductance_long_circular_tube\n",
    "from thermo_kinetic_gas_calc_func import avg_boltzmann_velocity\n",
    "\n",
    "N = cts.value('Avogadro constant') # in particles/mol\n",
    "kB = cts.value('Boltzmann constant')"
   ]
  },
  {
   "cell_type": "markdown",
   "source": [
    "atomic masses of different atoms we would find in our vacuum chamber and avg boltzmann velocities calculated from each"
   ],
   "metadata": {
    "collapsed": false
   }
  },
  {
   "cell_type": "code",
   "execution_count": 2,
   "outputs": [],
   "source": [
    "#| atomic masses\n",
    "m_O2 = 16\n",
    "m_N2 = 14\n",
    "m_H20 = 18\n",
    "m_H2 = 2\n",
    "\n",
    "v_avg_O2 = avg_boltzmann_velocity(m_O2)\n",
    "v_avg_N2 = avg_boltzmann_velocity(m_N2)\n",
    "v_avg_H2O = avg_boltzmann_velocity(m_H20)\n",
    "v_avg_H2 = avg_boltzmann_velocity(m_H2)\n"
   ],
   "metadata": {
    "collapsed": false
   }
  },
  {
   "cell_type": "markdown",
   "source": [
    "Various geometries of different flanges"
   ],
   "metadata": {
    "collapsed": false
   }
  },
  {
   "cell_type": "code",
   "execution_count": 8,
   "outputs": [
    {
     "name": "stdout",
     "output_type": "stream",
     "text": [
      "aspect ratios\n",
      "1.33\" flange: 1.2015625\n",
      "2.75\" tube: 3.925547445255474\n",
      "4.5\" tube: 2.3310344827586205\n"
     ]
    }
   ],
   "source": [
    "d_275 = 1.370*25.4*(1e-3) # m\n",
    "l_275 = 5.378*25.4*1e-3\n",
    "\n",
    "d_450 = 2.9*25.4*(1e-3)\n",
    "l_450 = 6.76*25.4*1e-3\n",
    "\n",
    "d_133 = 0.640*25.4*(1e-3)\n",
    "l_133 = 0.769*25.4*(1e-3)\n",
    "\n",
    "asp_ratio_133 = l_133/d_133\n",
    "asp_ratio_275 = l_275/d_275\n",
    "asp_ratio_450 = l_450/d_450\n",
    "\n",
    "print(\"aspect ratios\")\n",
    "print(\"1.33\\\" flange: \"+str(asp_ratio_133))\n",
    "print(\"2.75\\\" tube: \"+str(asp_ratio_275))\n",
    "print(\"4.5\\\" tube: \"+str(asp_ratio_450))"
   ],
   "metadata": {
    "collapsed": false
   }
  },
  {
   "cell_type": "markdown",
   "source": [
    "calculate cross-sectional area of each standard flange"
   ],
   "metadata": {
    "collapsed": false
   }
  },
  {
   "cell_type": "code",
   "execution_count": 4,
   "outputs": [],
   "source": [
    "A_133 = np.pi*(d_133/2)**2\n",
    "A_275 = np.pi*(d_275/2)**2 # m^2\n",
    "A_450 = np.pi*(d_450/2)**2\n"
   ],
   "metadata": {
    "collapsed": false
   }
  },
  {
   "cell_type": "markdown",
   "source": [
    "Calculate the conductances of each using short tube and long tube formulas"
   ],
   "metadata": {
    "collapsed": false
   }
  },
  {
   "cell_type": "code",
   "execution_count": 6,
   "outputs": [
    {
     "name": "stdout",
     "output_type": "stream",
     "text": [
      "Aperture conductance\n",
      "H2 (L/s), 1.33: 92.18214932294887\n",
      "H2 (L/s), 2.75: 422.40399429746776\n",
      "H2 (L/s), 4.5: 1892.7047749169928\n",
      "Tube conductance\n",
      "H2 (L/s), 1.33: 102.29141840778027\n",
      "H2 (L/s), 2.75: 143.4717917906361\n",
      "H2 (L/s), 4.5: 1082.612198670469\n"
     ]
    }
   ],
   "source": [
    "C_H2_133 = conductance_short_circular_tube(v_avg_H2,A_133)\n",
    "C_H2_275 = conductance_short_circular_tube(v_avg_H2,A_275)\n",
    "C_H2_450 = conductance_short_circular_tube(v_avg_H2,A_450)\n",
    "\n",
    "C_H2_long_133 = conductance_long_circular_tube(v_avg_H2,d_133,l_133)\n",
    "C_H2_long_275 = conductance_long_circular_tube(v_avg_H2,d_275,l_275)\n",
    "C_H2_long_450 = conductance_long_circular_tube(v_avg_H2,d_450,l_450)\n",
    "\n",
    "print(\"Aperture conductance\")\n",
    "print(\"H2 (L/s), 1.33: \"+str(C_H2_133))\n",
    "print(\"H2 (L/s), 2.75: \"+str(C_H2_275))\n",
    "print(\"H2 (L/s), 4.5: \"+str(C_H2_450))\n",
    "\n",
    "print(\"Tube conductance\")\n",
    "print(\"H2 (L/s), 1.33: \"+str(C_H2_long_133))\n",
    "print(\"H2 (L/s), 2.75: \"+str(C_H2_long_275))\n",
    "print(\"H2 (L/s), 4.5: \"+str(C_H2_long_450))"
   ],
   "metadata": {
    "collapsed": false
   }
  }
 ],
 "metadata": {
  "kernelspec": {
   "display_name": "Python 3",
   "language": "python",
   "name": "python3"
  },
  "language_info": {
   "codemirror_mode": {
    "name": "ipython",
    "version": 2
   },
   "file_extension": ".py",
   "mimetype": "text/x-python",
   "name": "python",
   "nbconvert_exporter": "python",
   "pygments_lexer": "ipython2",
   "version": "2.7.6"
  }
 },
 "nbformat": 4,
 "nbformat_minor": 0
}
